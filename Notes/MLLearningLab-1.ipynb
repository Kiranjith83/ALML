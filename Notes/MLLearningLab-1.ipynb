{
 "cells": [
  {
   "cell_type": "markdown",
   "metadata": {},
   "source": []
  },
  {
   "cell_type": "markdown",
   "metadata": {},
   "source": [
    "## Why python? \n",
    "- Easy to install and many rich libraries\n",
    "- numpy: efficient data structures\n",
    "- scipy: fast numerical recipes\n",
    "- matplotlib: high-quality graphs\n",
    "- scikit-learn: machine learning algorithms\n",
    "    - scikit-learn\n",
    "    - One of the most prominent Python libraries for machine learning:\n",
    "    Contains many state-of-the-art machine learning algorithms\n",
    "    Builds on numpy (fast), implements advanced techniques\n",
    "    Wide range of evaluation measures and techniques\n",
    "    Offers comprehensive documentation about each algorithm\n",
    "    Widely used, and a wealth of tutorials and code snippets are available\n",
    "    Works well with numpy, scipy, pandas, matplotlib,…\n",
    "\n",
    "- tensorflow: neural networks"
   ]
  },
  {
   "cell_type": "code",
   "execution_count": null,
   "metadata": {
    "vscode": {
     "languageId": "plaintext"
    }
   },
   "outputs": [],
   "source": []
  }
 ],
 "metadata": {
  "language_info": {
   "name": "python"
  },
  "orig_nbformat": 4
 },
 "nbformat": 4,
 "nbformat_minor": 2
}
